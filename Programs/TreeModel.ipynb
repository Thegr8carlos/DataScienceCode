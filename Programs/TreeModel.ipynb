{
  "nbformat": 4,
  "nbformat_minor": 0,
  "metadata": {
    "colab": {
      "provenance": []
    },
    "kernelspec": {
      "name": "python3",
      "display_name": "Python 3"
    },
    "language_info": {
      "name": "python"
    }
  },
  "cells": [
    {
      "cell_type": "markdown",
      "source": [
        "### Importing all the libraries for handle the data set"
      ],
      "metadata": {
        "id": "6LfX9GyVMa7t"
      }
    },
    {
      "cell_type": "code",
      "execution_count": 6,
      "metadata": {
        "id": "j1tc1XqaMU17"
      },
      "outputs": [],
      "source": [
        "import numpy as np\n",
        "import pandas as pd\n",
        "import re # for handle regular expressions\n",
        "import random"
      ]
    },
    {
      "cell_type": "markdown",
      "source": [
        "### Reading the dataset"
      ],
      "metadata": {
        "id": "6kY1Bga5M6Mo"
      }
    },
    {
      "cell_type": "code",
      "source": [
        "recipes = pd.read_csv(\"https://cf-courses-data.s3.us.cloud-object-storage.appdomain.cloud/IBMDeveloperSkillsNetwork-DS0103EN-SkillsNetwork/labs/Module%202/recipes.csv\")"
      ],
      "metadata": {
        "id": "ENRuzstCM8OI"
      },
      "execution_count": 7,
      "outputs": []
    },
    {
      "cell_type": "markdown",
      "source": [
        "### Showing the data set obtained"
      ],
      "metadata": {
        "id": "xdUH-FmnNsNU"
      }
    },
    {
      "cell_type": "code",
      "source": [
        "print(recipes.head())"
      ],
      "metadata": {
        "colab": {
          "base_uri": "https://localhost:8080/"
        },
        "id": "vSFA24EiNv8A",
        "outputId": "468ed25f-8b57-4dd1-ffd1-58d8a7ffe454"
      },
      "execution_count": 12,
      "outputs": [
        {
          "output_type": "stream",
          "name": "stdout",
          "text": [
            "      cuisine  almond  angelica  anise  anise_seed  apple  apple_brandy  \\\n",
            "0  vietnamese       0         0      0           0      0             0   \n",
            "1  vietnamese       0         0      0           0      0             0   \n",
            "2  vietnamese       0         0      0           0      0             0   \n",
            "3  vietnamese       0         0      0           0      0             0   \n",
            "4  vietnamese       0         0      0           0      0             0   \n",
            "\n",
            "   apricot  armagnac  artemisia  ...  whiskey  white_bread  white_wine  \\\n",
            "0        0         0          0  ...        0            0           0   \n",
            "1        0         0          0  ...        0            0           0   \n",
            "2        0         0          0  ...        0            0           0   \n",
            "3        0         0          0  ...        0            0           0   \n",
            "4        0         0          0  ...        0            0           0   \n",
            "\n",
            "   whole_grain_wheat_flour  wine  wood  yam  yeast  yogurt  zucchini  \n",
            "0                        0     0     0    0      0       0         0  \n",
            "1                        0     0     0    0      0       0         0  \n",
            "2                        0     0     0    0      0       0         0  \n",
            "3                        0     0     0    0      0       0         0  \n",
            "4                        0     0     0    0      0       0         0  \n",
            "\n",
            "[5 rows x 384 columns]\n",
            "0        vietnamese\n",
            "1        vietnamese\n",
            "2        vietnamese\n",
            "3        vietnamese\n",
            "4        vietnamese\n",
            "            ...    \n",
            "57686      japanese\n",
            "57687      japanese\n",
            "57688      japanese\n",
            "57689      japanese\n",
            "57690      japanese\n",
            "Name: cuisine, Length: 57403, dtype: object\n"
          ]
        }
      ]
    },
    {
      "cell_type": "markdown",
      "source": [
        "### Data preparation (fixing the values and missing data or in a bad format)"
      ],
      "metadata": {
        "id": "LopRFB1ROB57"
      }
    },
    {
      "cell_type": "code",
      "source": [
        "column_names = recipes.columns.values\n",
        "column_names[0] = \"cuisine\"\n",
        "recipes.columns = column_names\n",
        "\n",
        "# convert cuisine names to lower case\n",
        "recipes[\"cuisine\"] = recipes[\"cuisine\"].str.lower()\n",
        "\n",
        "# make the cuisine names consistent\n",
        "recipes.loc[recipes[\"cuisine\"] == \"austria\", \"cuisine\"] = \"austrian\"\n",
        "recipes.loc[recipes[\"cuisine\"] == \"belgium\", \"cuisine\"] = \"belgian\"\n",
        "recipes.loc[recipes[\"cuisine\"] == \"china\", \"cuisine\"] = \"chinese\"\n",
        "recipes.loc[recipes[\"cuisine\"] == \"canada\", \"cuisine\"] = \"canadian\"\n",
        "recipes.loc[recipes[\"cuisine\"] == \"netherlands\", \"cuisine\"] = \"dutch\"\n",
        "recipes.loc[recipes[\"cuisine\"] == \"france\", \"cuisine\"] = \"french\"\n",
        "recipes.loc[recipes[\"cuisine\"] == \"germany\", \"cuisine\"] = \"german\"\n",
        "recipes.loc[recipes[\"cuisine\"] == \"india\", \"cuisine\"] = \"indian\"\n",
        "recipes.loc[recipes[\"cuisine\"] == \"indonesia\", \"cuisine\"] = \"indonesian\"\n",
        "recipes.loc[recipes[\"cuisine\"] == \"iran\", \"cuisine\"] = \"iranian\"\n",
        "recipes.loc[recipes[\"cuisine\"] == \"italy\", \"cuisine\"] = \"italian\"\n",
        "recipes.loc[recipes[\"cuisine\"] == \"japan\", \"cuisine\"] = \"japanese\"\n",
        "recipes.loc[recipes[\"cuisine\"] == \"israel\", \"cuisine\"] = \"jewish\"\n",
        "recipes.loc[recipes[\"cuisine\"] == \"korea\", \"cuisine\"] = \"korean\"\n",
        "recipes.loc[recipes[\"cuisine\"] == \"lebanon\", \"cuisine\"] = \"lebanese\"\n",
        "recipes.loc[recipes[\"cuisine\"] == \"malaysia\", \"cuisine\"] = \"malaysian\"\n",
        "recipes.loc[recipes[\"cuisine\"] == \"mexico\", \"cuisine\"] = \"mexican\"\n",
        "recipes.loc[recipes[\"cuisine\"] == \"pakistan\", \"cuisine\"] = \"pakistani\"\n",
        "recipes.loc[recipes[\"cuisine\"] == \"philippines\", \"cuisine\"] = \"philippine\"\n",
        "recipes.loc[recipes[\"cuisine\"] == \"scandinavia\", \"cuisine\"] = \"scandinavian\"\n",
        "recipes.loc[recipes[\"cuisine\"] == \"spain\", \"cuisine\"] = \"spanish_portuguese\"\n",
        "recipes.loc[recipes[\"cuisine\"] == \"portugal\", \"cuisine\"] = \"spanish_portuguese\"\n",
        "recipes.loc[recipes[\"cuisine\"] == \"switzerland\", \"cuisine\"] = \"swiss\"\n",
        "recipes.loc[recipes[\"cuisine\"] == \"thailand\", \"cuisine\"] = \"thai\"\n",
        "recipes.loc[recipes[\"cuisine\"] == \"turkey\", \"cuisine\"] = \"turkish\"\n",
        "recipes.loc[recipes[\"cuisine\"] == \"vietnam\", \"cuisine\"] = \"vietnamese\"\n",
        "recipes.loc[recipes[\"cuisine\"] == \"uk-and-ireland\", \"cuisine\"] = \"uk-and-irish\"\n",
        "recipes.loc[recipes[\"cuisine\"] == \"irish\", \"cuisine\"] = \"uk-and-irish\"\n",
        "\n",
        "# remove data for cuisines with < 50 recipes:\n",
        "recipes_counts = recipes[\"cuisine\"].value_counts()\n",
        "cuisines_indices = recipes_counts > 50\n",
        "\n",
        "cuisines_to_keep = list(np.array(recipes_counts.index.values)[np.array(cuisines_indices)])\n",
        "recipes = recipes.loc[recipes[\"cuisine\"].isin(cuisines_to_keep)]\n",
        "\n",
        "# convert all Yes's to 1's and the No's to 0's\n",
        "recipes = recipes.replace(to_replace=\"Yes\", value=1)\n",
        "recipes = recipes.replace(to_replace=\"No\", value=0)"
      ],
      "metadata": {
        "id": "d0hUxR_tNyZm"
      },
      "execution_count": 9,
      "outputs": []
    },
    {
      "cell_type": "markdown",
      "source": [
        "### Showing the dataset before the data preparation\n",
        "we change the (yes/no) values for (1/0)"
      ],
      "metadata": {
        "id": "UnKh2CV1OQvd"
      }
    },
    {
      "cell_type": "code",
      "source": [
        "print(recipes.head())"
      ],
      "metadata": {
        "colab": {
          "base_uri": "https://localhost:8080/"
        },
        "id": "wV2gTYGDOViY",
        "outputId": "3a7f91bd-820a-49fd-b471-dcd608c535c0"
      },
      "execution_count": 10,
      "outputs": [
        {
          "output_type": "stream",
          "name": "stdout",
          "text": [
            "      cuisine  almond  angelica  anise  anise_seed  apple  apple_brandy  \\\n",
            "0  vietnamese       0         0      0           0      0             0   \n",
            "1  vietnamese       0         0      0           0      0             0   \n",
            "2  vietnamese       0         0      0           0      0             0   \n",
            "3  vietnamese       0         0      0           0      0             0   \n",
            "4  vietnamese       0         0      0           0      0             0   \n",
            "\n",
            "   apricot  armagnac  artemisia  ...  whiskey  white_bread  white_wine  \\\n",
            "0        0         0          0  ...        0            0           0   \n",
            "1        0         0          0  ...        0            0           0   \n",
            "2        0         0          0  ...        0            0           0   \n",
            "3        0         0          0  ...        0            0           0   \n",
            "4        0         0          0  ...        0            0           0   \n",
            "\n",
            "   whole_grain_wheat_flour  wine  wood  yam  yeast  yogurt  zucchini  \n",
            "0                        0     0     0    0      0       0         0  \n",
            "1                        0     0     0    0      0       0         0  \n",
            "2                        0     0     0    0      0       0         0  \n",
            "3                        0     0     0    0      0       0         0  \n",
            "4                        0     0     0    0      0       0         0  \n",
            "\n",
            "[5 rows x 384 columns]\n"
          ]
        }
      ]
    },
    {
      "cell_type": "markdown",
      "source": [
        "# Modeling the recipes of ASIA and INDIA"
      ],
      "metadata": {
        "id": "6Lbs8n2uR4iE"
      }
    },
    {
      "cell_type": "markdown",
      "source": [
        "### libraries for modeling data"
      ],
      "metadata": {
        "id": "5JDkXkLNR-ZR"
      }
    },
    {
      "cell_type": "code",
      "source": [
        "%matplotlib inline\n",
        "from sklearn import tree # model of the tree desicion\n",
        "from sklearn.metrics import accuracy_score, confusion_matrix # to show the stats of the model\n",
        "import matplotlib.pyplot as plt # to plot the model\n",
        "import graphviz\n",
        "from sklearn.tree import export_graphviz # to visualize the model\n",
        "import itertools"
      ],
      "metadata": {
        "id": "hrDUFJerOXXP"
      },
      "execution_count": 15,
      "outputs": []
    },
    {
      "cell_type": "code",
      "source": [
        "asian_indian_recipes = recipes[recipes.cuisine.isin([\"korean\", \"japanese\", \"chinese\", \"thai\", \"indian\"])] # to get all the recipes of that nacionality\n",
        "cuisines = asian_indian_recipes[\"cuisine\"] # labels of each record\n",
        "ingredients = asian_indian_recipes.iloc[:,1:] # getting all the ingredients of each record\n",
        "\n",
        "bamboo_tree = tree.DecisionTreeClassifier(max_depth=3)\n",
        "bamboo_tree.fit(ingredients, cuisines)\n",
        "\n",
        "print(\"Decision tree model saved to bamboo_tree!\")\n",
        "print(f\" shape of the ingredients of nacionality korean, japanese, chinese, tai and indian  {asian_indian_recipes.shape}\")\n",
        "print(f\" shape of all the labels of each record {cuisines.shape}\")\n",
        "print(f\" shape of all the ingredients of the data {ingredients.shape}\")\n"
      ],
      "metadata": {
        "colab": {
          "base_uri": "https://localhost:8080/"
        },
        "id": "qSQxVQZqSm5O",
        "outputId": "bfd0a7dd-12b0-4d7b-bb20-db0b1a2a4baa"
      },
      "execution_count": 18,
      "outputs": [
        {
          "output_type": "stream",
          "name": "stdout",
          "text": [
            "Decision tree model saved to bamboo_tree!\n",
            " shape of the ingredients of nacionality korean, japanese, chinese, tai and indian  (2448, 384)\n",
            " shape of all the labels of each record (2448,)\n",
            " shape of all the ingredients of the data (2448, 383)\n"
          ]
        }
      ]
    },
    {
      "cell_type": "markdown",
      "source": [
        "We can observe that the numbers of records its the same so its still consistent the inputs of the model"
      ],
      "metadata": {
        "id": "fDfJM6M4VKD1"
      }
    },
    {
      "cell_type": "code",
      "source": [
        "export_graphviz(bamboo_tree,\n",
        "                feature_names=list(ingredients.columns.values),\n",
        "                out_file=\"bamboo_tree.dot\",\n",
        "                class_names=np.unique(cuisines),\n",
        "                filled=True,\n",
        "                node_ids=True,\n",
        "                special_characters=True,\n",
        "                impurity=False,\n",
        "                label=\"all\",\n",
        "                leaves_parallel=False)\n",
        "\n",
        "with open(\"bamboo_tree.dot\") as bamboo_tree_image:\n",
        "    bamboo_tree_graph = bamboo_tree_image.read()\n",
        "graphviz.Source(bamboo_tree_graph)"
      ],
      "metadata": {
        "colab": {
          "base_uri": "https://localhost:8080/",
          "height": 618
        },
        "id": "u1MClFtLVGyx",
        "outputId": "8a94a7ba-7756-421f-8e87-cccd5ca3e302"
      },
      "execution_count": 19,
      "outputs": [
        {
          "output_type": "execute_result",
          "data": {
            "image/svg+xml": "<?xml version=\"1.0\" encoding=\"UTF-8\" standalone=\"no\"?>\n<!DOCTYPE svg PUBLIC \"-//W3C//DTD SVG 1.1//EN\"\n \"http://www.w3.org/Graphics/SVG/1.1/DTD/svg11.dtd\">\n<!-- Generated by graphviz version 2.43.0 (0)\n -->\n<!-- Title: Tree Pages: 1 -->\n<svg width=\"1419pt\" height=\"433pt\"\n viewBox=\"0.00 0.00 1418.50 433.00\" xmlns=\"http://www.w3.org/2000/svg\" xmlns:xlink=\"http://www.w3.org/1999/xlink\">\n<g id=\"graph0\" class=\"graph\" transform=\"scale(1 1) rotate(0) translate(4 429)\">\n<title>Tree</title>\n<polygon fill=\"white\" stroke=\"transparent\" points=\"-4,4 -4,-429 1414.5,-429 1414.5,4 -4,4\"/>\n<!-- 0 -->\n<g id=\"node1\" class=\"node\">\n<title>0</title>\n<polygon fill=\"#eae9fc\" stroke=\"black\" points=\"844,-425 629,-425 629,-342 844,-342 844,-425\"/>\n<text text-anchor=\"start\" x=\"712\" y=\"-409.8\" font-family=\"Helvetica,sans-Serif\" font-size=\"14.00\">node #0</text>\n<text text-anchor=\"start\" x=\"701\" y=\"-394.8\" font-family=\"Helvetica,sans-Serif\" font-size=\"14.00\">cumin ≤ 0.5</text>\n<text text-anchor=\"start\" x=\"688\" y=\"-379.8\" font-family=\"Helvetica,sans-Serif\" font-size=\"14.00\">samples = 2448</text>\n<text text-anchor=\"start\" x=\"637\" y=\"-364.8\" font-family=\"Helvetica,sans-Serif\" font-size=\"14.00\">value = [442, 598, 320, 799, 289]</text>\n<text text-anchor=\"start\" x=\"692.5\" y=\"-349.8\" font-family=\"Helvetica,sans-Serif\" font-size=\"14.00\">class = korean</text>\n</g>\n<!-- 1 -->\n<g id=\"node2\" class=\"node\">\n<title>1</title>\n<polygon fill=\"#d2d1f9\" stroke=\"black\" points=\"686,-306 471,-306 471,-223 686,-223 686,-306\"/>\n<text text-anchor=\"start\" x=\"554\" y=\"-290.8\" font-family=\"Helvetica,sans-Serif\" font-size=\"14.00\">node #1</text>\n<text text-anchor=\"start\" x=\"492.5\" y=\"-275.8\" font-family=\"Helvetica,sans-Serif\" font-size=\"14.00\">roasted_sesame_seed ≤ 0.5</text>\n<text text-anchor=\"start\" x=\"530\" y=\"-260.8\" font-family=\"Helvetica,sans-Serif\" font-size=\"14.00\">samples = 1986</text>\n<text text-anchor=\"start\" x=\"479\" y=\"-245.8\" font-family=\"Helvetica,sans-Serif\" font-size=\"14.00\">value = [438, 237, 314, 796, 201]</text>\n<text text-anchor=\"start\" x=\"534.5\" y=\"-230.8\" font-family=\"Helvetica,sans-Serif\" font-size=\"14.00\">class = korean</text>\n</g>\n<!-- 0&#45;&gt;1 -->\n<g id=\"edge1\" class=\"edge\">\n<title>0&#45;&gt;1</title>\n<path fill=\"none\" stroke=\"black\" d=\"M681.68,-341.91C668.69,-332.29 654.74,-321.95 641.42,-312.09\"/>\n<polygon fill=\"black\" stroke=\"black\" points=\"643.34,-309.16 633.22,-306.02 639.17,-314.78 643.34,-309.16\"/>\n<text text-anchor=\"middle\" x=\"636.91\" y=\"-327.05\" font-family=\"Helvetica,sans-Serif\" font-size=\"14.00\">True</text>\n</g>\n<!-- 8 -->\n<g id=\"node9\" class=\"node\">\n<title>8</title>\n<polygon fill=\"#9fec6e\" stroke=\"black\" points=\"1003.5,-306 841.5,-306 841.5,-223 1003.5,-223 1003.5,-306\"/>\n<text text-anchor=\"start\" x=\"898\" y=\"-290.8\" font-family=\"Helvetica,sans-Serif\" font-size=\"14.00\">node #8</text>\n<text text-anchor=\"start\" x=\"895\" y=\"-275.8\" font-family=\"Helvetica,sans-Serif\" font-size=\"14.00\">fish ≤ 0.5</text>\n<text text-anchor=\"start\" x=\"877.5\" y=\"-260.8\" font-family=\"Helvetica,sans-Serif\" font-size=\"14.00\">samples = 462</text>\n<text text-anchor=\"start\" x=\"849.5\" y=\"-245.8\" font-family=\"Helvetica,sans-Serif\" font-size=\"14.00\">value = [4, 361, 6, 3, 88]</text>\n<text text-anchor=\"start\" x=\"881\" y=\"-230.8\" font-family=\"Helvetica,sans-Serif\" font-size=\"14.00\">class = indian</text>\n</g>\n<!-- 0&#45;&gt;8 -->\n<g id=\"edge8\" class=\"edge\">\n<title>0&#45;&gt;8</title>\n<path fill=\"none\" stroke=\"black\" d=\"M801.03,-341.91C816.61,-332.11 833.37,-321.56 849.32,-311.53\"/>\n<polygon fill=\"black\" stroke=\"black\" points=\"851.48,-314.31 858.08,-306.02 847.75,-308.38 851.48,-314.31\"/>\n<text text-anchor=\"middle\" x=\"852.53\" y=\"-326.7\" font-family=\"Helvetica,sans-Serif\" font-size=\"14.00\">False</text>\n</g>\n<!-- 2 -->\n<g id=\"node3\" class=\"node\">\n<title>2</title>\n<polygon fill=\"#ececfc\" stroke=\"black\" points=\"429,-187 214,-187 214,-104 429,-104 429,-187\"/>\n<text text-anchor=\"start\" x=\"297\" y=\"-171.8\" font-family=\"Helvetica,sans-Serif\" font-size=\"14.00\">node #2</text>\n<text text-anchor=\"start\" x=\"286\" y=\"-156.8\" font-family=\"Helvetica,sans-Serif\" font-size=\"14.00\">starch ≤ 0.5</text>\n<text text-anchor=\"start\" x=\"273\" y=\"-141.8\" font-family=\"Helvetica,sans-Serif\" font-size=\"14.00\">samples = 1738</text>\n<text text-anchor=\"start\" x=\"222\" y=\"-126.8\" font-family=\"Helvetica,sans-Serif\" font-size=\"14.00\">value = [433, 237, 309, 560, 199]</text>\n<text text-anchor=\"start\" x=\"277.5\" y=\"-111.8\" font-family=\"Helvetica,sans-Serif\" font-size=\"14.00\">class = korean</text>\n</g>\n<!-- 1&#45;&gt;2 -->\n<g id=\"edge2\" class=\"edge\">\n<title>1&#45;&gt;2</title>\n<path fill=\"none\" stroke=\"black\" d=\"M489.34,-222.91C466.91,-212.7 442.71,-201.68 419.87,-191.28\"/>\n<polygon fill=\"black\" stroke=\"black\" points=\"421.06,-187.98 410.51,-187.02 418.16,-194.35 421.06,-187.98\"/>\n</g>\n<!-- 5 -->\n<g id=\"node6\" class=\"node\">\n<title>5</title>\n<polygon fill=\"#4643e6\" stroke=\"black\" points=\"656,-187 501,-187 501,-104 656,-104 656,-187\"/>\n<text text-anchor=\"start\" x=\"554\" y=\"-171.8\" font-family=\"Helvetica,sans-Serif\" font-size=\"14.00\">node #5</text>\n<text text-anchor=\"start\" x=\"539.5\" y=\"-156.8\" font-family=\"Helvetica,sans-Serif\" font-size=\"14.00\">cilantro ≤ 0.5</text>\n<text text-anchor=\"start\" x=\"533.5\" y=\"-141.8\" font-family=\"Helvetica,sans-Serif\" font-size=\"14.00\">samples = 248</text>\n<text text-anchor=\"start\" x=\"509\" y=\"-126.8\" font-family=\"Helvetica,sans-Serif\" font-size=\"14.00\">value = [5, 0, 5, 236, 2]</text>\n<text text-anchor=\"start\" x=\"534.5\" y=\"-111.8\" font-family=\"Helvetica,sans-Serif\" font-size=\"14.00\">class = korean</text>\n</g>\n<!-- 1&#45;&gt;5 -->\n<g id=\"edge5\" class=\"edge\">\n<title>1&#45;&gt;5</title>\n<path fill=\"none\" stroke=\"black\" d=\"M578.5,-222.91C578.5,-214.65 578.5,-205.86 578.5,-197.3\"/>\n<polygon fill=\"black\" stroke=\"black\" points=\"582,-197.02 578.5,-187.02 575,-197.02 582,-197.02\"/>\n</g>\n<!-- 3 -->\n<g id=\"node4\" class=\"node\">\n<title>3</title>\n<polygon fill=\"#dbdafa\" stroke=\"black\" points=\"215,-68 0,-68 0,0 215,0 215,-68\"/>\n<text text-anchor=\"start\" x=\"83\" y=\"-52.8\" font-family=\"Helvetica,sans-Serif\" font-size=\"14.00\">node #3</text>\n<text text-anchor=\"start\" x=\"59\" y=\"-37.8\" font-family=\"Helvetica,sans-Serif\" font-size=\"14.00\">samples = 1507</text>\n<text text-anchor=\"start\" x=\"8\" y=\"-22.8\" font-family=\"Helvetica,sans-Serif\" font-size=\"14.00\">value = [273, 235, 293, 519, 187]</text>\n<text text-anchor=\"start\" x=\"63.5\" y=\"-7.8\" font-family=\"Helvetica,sans-Serif\" font-size=\"14.00\">class = korean</text>\n</g>\n<!-- 2&#45;&gt;3 -->\n<g id=\"edge3\" class=\"edge\">\n<title>2&#45;&gt;3</title>\n<path fill=\"none\" stroke=\"black\" d=\"M242.12,-103.88C222.11,-93.64 200.71,-82.69 181,-72.61\"/>\n<polygon fill=\"black\" stroke=\"black\" points=\"182.57,-69.48 172.08,-68.04 179.39,-75.71 182.57,-69.48\"/>\n</g>\n<!-- 4 -->\n<g id=\"node5\" class=\"node\">\n<title>4</title>\n<polygon fill=\"#efb083\" stroke=\"black\" points=\"410,-68 233,-68 233,0 410,0 410,-68\"/>\n<text text-anchor=\"start\" x=\"297\" y=\"-52.8\" font-family=\"Helvetica,sans-Serif\" font-size=\"14.00\">node #4</text>\n<text text-anchor=\"start\" x=\"276.5\" y=\"-37.8\" font-family=\"Helvetica,sans-Serif\" font-size=\"14.00\">samples = 231</text>\n<text text-anchor=\"start\" x=\"241\" y=\"-22.8\" font-family=\"Helvetica,sans-Serif\" font-size=\"14.00\">value = [160, 2, 16, 41, 12]</text>\n<text text-anchor=\"start\" x=\"274.5\" y=\"-7.8\" font-family=\"Helvetica,sans-Serif\" font-size=\"14.00\">class = chinese</text>\n</g>\n<!-- 2&#45;&gt;4 -->\n<g id=\"edge4\" class=\"edge\">\n<title>2&#45;&gt;4</title>\n<path fill=\"none\" stroke=\"black\" d=\"M321.5,-103.73C321.5,-95.52 321.5,-86.86 321.5,-78.56\"/>\n<polygon fill=\"black\" stroke=\"black\" points=\"325,-78.3 321.5,-68.3 318,-78.3 325,-78.3\"/>\n</g>\n<!-- 6 -->\n<g id=\"node7\" class=\"node\">\n<title>6</title>\n<polygon fill=\"#4441e6\" stroke=\"black\" points=\"583,-68 428,-68 428,0 583,0 583,-68\"/>\n<text text-anchor=\"start\" x=\"481\" y=\"-52.8\" font-family=\"Helvetica,sans-Serif\" font-size=\"14.00\">node #6</text>\n<text text-anchor=\"start\" x=\"460.5\" y=\"-37.8\" font-family=\"Helvetica,sans-Serif\" font-size=\"14.00\">samples = 246</text>\n<text text-anchor=\"start\" x=\"436\" y=\"-22.8\" font-family=\"Helvetica,sans-Serif\" font-size=\"14.00\">value = [4, 0, 5, 236, 1]</text>\n<text text-anchor=\"start\" x=\"461.5\" y=\"-7.8\" font-family=\"Helvetica,sans-Serif\" font-size=\"14.00\">class = korean</text>\n</g>\n<!-- 5&#45;&gt;6 -->\n<g id=\"edge6\" class=\"edge\">\n<title>5&#45;&gt;6</title>\n<path fill=\"none\" stroke=\"black\" d=\"M551.32,-103.73C545.42,-94.88 539.17,-85.51 533.25,-76.63\"/>\n<polygon fill=\"black\" stroke=\"black\" points=\"536.16,-74.68 527.7,-68.3 530.33,-78.56 536.16,-74.68\"/>\n</g>\n<!-- 7 -->\n<g id=\"node8\" class=\"node\">\n<title>7</title>\n<polygon fill=\"#ffffff\" stroke=\"black\" points=\"741.5,-68 601.5,-68 601.5,0 741.5,0 741.5,-68\"/>\n<text text-anchor=\"start\" x=\"647\" y=\"-52.8\" font-family=\"Helvetica,sans-Serif\" font-size=\"14.00\">node #7</text>\n<text text-anchor=\"start\" x=\"634\" y=\"-37.8\" font-family=\"Helvetica,sans-Serif\" font-size=\"14.00\">samples = 2</text>\n<text text-anchor=\"start\" x=\"609.5\" y=\"-22.8\" font-family=\"Helvetica,sans-Serif\" font-size=\"14.00\">value = [1, 0, 0, 0, 1]</text>\n<text text-anchor=\"start\" x=\"624.5\" y=\"-7.8\" font-family=\"Helvetica,sans-Serif\" font-size=\"14.00\">class = chinese</text>\n</g>\n<!-- 5&#45;&gt;7 -->\n<g id=\"edge7\" class=\"edge\">\n<title>5&#45;&gt;7</title>\n<path fill=\"none\" stroke=\"black\" d=\"M613.13,-103.73C620.8,-94.7 628.93,-85.12 636.61,-76.08\"/>\n<polygon fill=\"black\" stroke=\"black\" points=\"639.41,-78.19 643.22,-68.3 634.08,-73.66 639.41,-78.19\"/>\n</g>\n<!-- 9 -->\n<g id=\"node10\" class=\"node\">\n<title>9</title>\n<polygon fill=\"#8ee956\" stroke=\"black\" points=\"1003.5,-187 841.5,-187 841.5,-104 1003.5,-104 1003.5,-187\"/>\n<text text-anchor=\"start\" x=\"898\" y=\"-171.8\" font-family=\"Helvetica,sans-Serif\" font-size=\"14.00\">node #9</text>\n<text text-anchor=\"start\" x=\"873\" y=\"-156.8\" font-family=\"Helvetica,sans-Serif\" font-size=\"14.00\">soy_sauce ≤ 0.5</text>\n<text text-anchor=\"start\" x=\"877.5\" y=\"-141.8\" font-family=\"Helvetica,sans-Serif\" font-size=\"14.00\">samples = 405</text>\n<text text-anchor=\"start\" x=\"849.5\" y=\"-126.8\" font-family=\"Helvetica,sans-Serif\" font-size=\"14.00\">value = [4, 353, 3, 1, 44]</text>\n<text text-anchor=\"start\" x=\"881\" y=\"-111.8\" font-family=\"Helvetica,sans-Serif\" font-size=\"14.00\">class = indian</text>\n</g>\n<!-- 8&#45;&gt;9 -->\n<g id=\"edge9\" class=\"edge\">\n<title>8&#45;&gt;9</title>\n<path fill=\"none\" stroke=\"black\" d=\"M922.5,-222.91C922.5,-214.65 922.5,-205.86 922.5,-197.3\"/>\n<polygon fill=\"black\" stroke=\"black\" points=\"926,-197.02 922.5,-187.02 919,-197.02 926,-197.02\"/>\n</g>\n<!-- 12 -->\n<g id=\"node13\" class=\"node\">\n<title>12</title>\n<polygon fill=\"#ec6ed1\" stroke=\"black\" points=\"1252,-187 1105,-187 1105,-104 1252,-104 1252,-187\"/>\n<text text-anchor=\"start\" x=\"1150\" y=\"-171.8\" font-family=\"Helvetica,sans-Serif\" font-size=\"14.00\">node #12</text>\n<text text-anchor=\"start\" x=\"1142.5\" y=\"-156.8\" font-family=\"Helvetica,sans-Serif\" font-size=\"14.00\">yogurt ≤ 0.5</text>\n<text text-anchor=\"start\" x=\"1137.5\" y=\"-141.8\" font-family=\"Helvetica,sans-Serif\" font-size=\"14.00\">samples = 57</text>\n<text text-anchor=\"start\" x=\"1113\" y=\"-126.8\" font-family=\"Helvetica,sans-Serif\" font-size=\"14.00\">value = [0, 8, 3, 2, 44]</text>\n<text text-anchor=\"start\" x=\"1144\" y=\"-111.8\" font-family=\"Helvetica,sans-Serif\" font-size=\"14.00\">class = thai</text>\n</g>\n<!-- 8&#45;&gt;12 -->\n<g id=\"edge12\" class=\"edge\">\n<title>8&#45;&gt;12</title>\n<path fill=\"none\" stroke=\"black\" d=\"M1003.85,-226.32C1033.05,-212.98 1066,-197.92 1095.34,-184.51\"/>\n<polygon fill=\"black\" stroke=\"black\" points=\"1097.1,-187.55 1104.74,-180.21 1094.19,-181.19 1097.1,-187.55\"/>\n</g>\n<!-- 10 -->\n<g id=\"node11\" class=\"node\">\n<title>10</title>\n<polygon fill=\"#86e749\" stroke=\"black\" points=\"921.5,-68 759.5,-68 759.5,0 921.5,0 921.5,-68\"/>\n<text text-anchor=\"start\" x=\"812\" y=\"-52.8\" font-family=\"Helvetica,sans-Serif\" font-size=\"14.00\">node #10</text>\n<text text-anchor=\"start\" x=\"795.5\" y=\"-37.8\" font-family=\"Helvetica,sans-Serif\" font-size=\"14.00\">samples = 375</text>\n<text text-anchor=\"start\" x=\"767.5\" y=\"-22.8\" font-family=\"Helvetica,sans-Serif\" font-size=\"14.00\">value = [1, 346, 2, 1, 25]</text>\n<text text-anchor=\"start\" x=\"799\" y=\"-7.8\" font-family=\"Helvetica,sans-Serif\" font-size=\"14.00\">class = indian</text>\n</g>\n<!-- 9&#45;&gt;10 -->\n<g id=\"edge10\" class=\"edge\">\n<title>9&#45;&gt;10</title>\n<path fill=\"none\" stroke=\"black\" d=\"M891.97,-103.73C885.27,-94.79 878.18,-85.32 871.47,-76.36\"/>\n<polygon fill=\"black\" stroke=\"black\" points=\"874.23,-74.21 865.44,-68.3 868.63,-78.4 874.23,-74.21\"/>\n</g>\n<!-- 11 -->\n<g id=\"node12\" class=\"node\">\n<title>11</title>\n<polygon fill=\"#f198de\" stroke=\"black\" points=\"1087,-68 940,-68 940,0 1087,0 1087,-68\"/>\n<text text-anchor=\"start\" x=\"985\" y=\"-52.8\" font-family=\"Helvetica,sans-Serif\" font-size=\"14.00\">node #11</text>\n<text text-anchor=\"start\" x=\"972.5\" y=\"-37.8\" font-family=\"Helvetica,sans-Serif\" font-size=\"14.00\">samples = 30</text>\n<text text-anchor=\"start\" x=\"948\" y=\"-22.8\" font-family=\"Helvetica,sans-Serif\" font-size=\"14.00\">value = [3, 7, 1, 0, 19]</text>\n<text text-anchor=\"start\" x=\"979\" y=\"-7.8\" font-family=\"Helvetica,sans-Serif\" font-size=\"14.00\">class = thai</text>\n</g>\n<!-- 9&#45;&gt;11 -->\n<g id=\"edge11\" class=\"edge\">\n<title>9&#45;&gt;11</title>\n<path fill=\"none\" stroke=\"black\" d=\"M956.39,-103.73C963.89,-94.7 971.84,-85.12 979.36,-76.08\"/>\n<polygon fill=\"black\" stroke=\"black\" points=\"982.13,-78.23 985.83,-68.3 976.74,-73.75 982.13,-78.23\"/>\n</g>\n<!-- 13 -->\n<g id=\"node14\" class=\"node\">\n<title>13</title>\n<polygon fill=\"#e959ca\" stroke=\"black\" points=\"1252,-68 1105,-68 1105,0 1252,0 1252,-68\"/>\n<text text-anchor=\"start\" x=\"1150\" y=\"-52.8\" font-family=\"Helvetica,sans-Serif\" font-size=\"14.00\">node #13</text>\n<text text-anchor=\"start\" x=\"1137.5\" y=\"-37.8\" font-family=\"Helvetica,sans-Serif\" font-size=\"14.00\">samples = 52</text>\n<text text-anchor=\"start\" x=\"1113\" y=\"-22.8\" font-family=\"Helvetica,sans-Serif\" font-size=\"14.00\">value = [0, 3, 3, 2, 44]</text>\n<text text-anchor=\"start\" x=\"1144\" y=\"-7.8\" font-family=\"Helvetica,sans-Serif\" font-size=\"14.00\">class = thai</text>\n</g>\n<!-- 12&#45;&gt;13 -->\n<g id=\"edge13\" class=\"edge\">\n<title>12&#45;&gt;13</title>\n<path fill=\"none\" stroke=\"black\" d=\"M1178.5,-103.73C1178.5,-95.52 1178.5,-86.86 1178.5,-78.56\"/>\n<polygon fill=\"black\" stroke=\"black\" points=\"1182,-78.3 1178.5,-68.3 1175,-78.3 1182,-78.3\"/>\n</g>\n<!-- 14 -->\n<g id=\"node15\" class=\"node\">\n<title>14</title>\n<polygon fill=\"#7be539\" stroke=\"black\" points=\"1410.5,-68 1270.5,-68 1270.5,0 1410.5,0 1410.5,-68\"/>\n<text text-anchor=\"start\" x=\"1312\" y=\"-52.8\" font-family=\"Helvetica,sans-Serif\" font-size=\"14.00\">node #14</text>\n<text text-anchor=\"start\" x=\"1303\" y=\"-37.8\" font-family=\"Helvetica,sans-Serif\" font-size=\"14.00\">samples = 5</text>\n<text text-anchor=\"start\" x=\"1278.5\" y=\"-22.8\" font-family=\"Helvetica,sans-Serif\" font-size=\"14.00\">value = [0, 5, 0, 0, 0]</text>\n<text text-anchor=\"start\" x=\"1299\" y=\"-7.8\" font-family=\"Helvetica,sans-Serif\" font-size=\"14.00\">class = indian</text>\n</g>\n<!-- 12&#45;&gt;14 -->\n<g id=\"edge14\" class=\"edge\">\n<title>12&#45;&gt;14</title>\n<path fill=\"none\" stroke=\"black\" d=\"M1238.82,-103.73C1253.34,-93.92 1268.8,-83.46 1283.17,-73.75\"/>\n<polygon fill=\"black\" stroke=\"black\" points=\"1285.17,-76.62 1291.49,-68.13 1281.25,-70.83 1285.17,-76.62\"/>\n</g>\n</g>\n</svg>\n",
            "text/plain": [
              "<graphviz.sources.Source at 0x7e01adc95a80>"
            ]
          },
          "metadata": {},
          "execution_count": 19
        }
      ]
    },
    {
      "cell_type": "markdown",
      "source": [
        "# falta de dividir el data set en datos de prueba y datos de entrenamiento"
      ],
      "metadata": {
        "id": "qVCLzbNuZ9Em"
      }
    },
    {
      "cell_type": "code",
      "source": [],
      "metadata": {
        "id": "TN4N8CFLaDFL"
      },
      "execution_count": null,
      "outputs": []
    }
  ]
}