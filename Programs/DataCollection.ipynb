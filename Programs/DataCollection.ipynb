{
  "nbformat": 4,
  "nbformat_minor": 0,
  "metadata": {
    "colab": {
      "provenance": []
    },
    "kernelspec": {
      "name": "python3",
      "display_name": "Python 3"
    },
    "language_info": {
      "name": "python"
    }
  },
  "cells": [
    {
      "cell_type": "code",
      "execution_count": 6,
      "metadata": {
        "colab": {
          "base_uri": "https://localhost:8080/"
        },
        "id": "Eo7f6bU_Joyg",
        "outputId": "6d3348ed-0e55-4b74-f4a4-aeab7eb6e5a0"
      },
      "outputs": [
        {
          "output_type": "stream",
          "name": "stdout",
          "text": [
            "Reading the data of the recipes\n",
            "Shape of the data  (57691, 384)\n",
            " Showing one example of one recipe \n",
            "country       Vietnamese\n",
            "almond                No\n",
            "angelica              No\n",
            "anise                 No\n",
            "anise_seed            No\n",
            "                 ...    \n",
            "wood                  No\n",
            "yam                   No\n",
            "yeast                 No\n",
            "yogurt                No\n",
            "zucchini              No\n",
            "Name: 0, Length: 384, dtype: object\n"
          ]
        }
      ],
      "source": [
        "import pandas as pd # pandas for reading the data\n",
        "pd.set_option('display.max_columns', None)\n",
        "# getting the data from the ibm source\n",
        "recipes = pd.read_csv(\"https://cf-courses-data.s3.us.cloud-object-storage.appdomain.cloud/IBMDeveloperSkillsNetwork-DS0103EN-SkillsNetwork/labs/Module%202/recipes.csv\")\n",
        "print(\"Reading the data of the recipes\")\n",
        "print(f\"Shape of the data  {recipes.shape}\")\n",
        "print(f\" Showing one example of one recipe \")\n",
        "print(recipes.iloc[0])"
      ]
    }
  ]
}